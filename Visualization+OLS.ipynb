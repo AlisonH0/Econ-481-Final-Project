{
 "cells": [
  {
   "cell_type": "code",
   "execution_count": null,
   "id": "1832e508-5175-4ec3-84ea-7402cb70e838",
   "metadata": {},
   "outputs": [],
   "source": [
    "import pandas as pd\n",
    "import numpy as np\n",
    "import statsmodels.api as sm\n",
    "import statsmodels.formula.api as smf\n",
    "import matplotlib.pyplot as plt\n",
    "from sklearn.linear_model import LinearRegression\n",
    "from sklearn.model_selection import train_test_split\n",
    "from sklearn.metrics import mean_squared_error\n",
    "\n",
    "#Downloads each sheet from sheet_list\n",
    "#Merges cleaned data frames\n",
    "def import_data() -> pd.DataFrame:\n",
    "    sheet_list = [\n",
    "      'CO2 Emissions from Energy',\n",
    "      'Oil Consumption - EJ',\n",
    "      'Gas Consumption - EJ',\n",
    "      'Coal Consumption - EJ'\n",
    "               ]\n",
    "\n",
    "    combined_df = download_individual_sheet(sheet_list[0])\n",
    "    for i in range(1, len(sheet_list)):\n",
    "        individual_df = download_individual_sheet(sheet_list[i])\n",
    "        combined_df = pd.merge(combined_df, individual_df)\n",
    "    return combined_df\n",
    "\n",
    "'''\n",
    "Takes a name of a sheet\n",
    "Gets rid of null values\n",
    "Subsets data for Mexico, US, and Canada\n",
    "Sets country and year on the same axis\n",
    "'''\n",
    "def download_individual_sheet(sheet: str) -> pd.DataFrame:\n",
    "    path = '/home/jovyan/Econ-481-Final-Project/Statistical Review of World Energy Data.xlsx'\n",
    "    data = pd.read_excel(path, sheet_name = sheet, skiprows = 2, usecols = range(59))\n",
    "\n",
    "    data.rename({data.columns[0]: 'Country'}, axis=1, inplace=True)\n",
    "    data.dropna(inplace = True)\n",
    "\n",
    "    data = data.loc[data[data.columns[0]].isin(['Mexico', 'US', 'Canada'])]\n",
    "\n",
    "    data = data.melt(id_vars = 'Country', var_name = 'Year', value_name = sheet)\n",
    "    data = data.sort_values(by=['Country', 'Year'])\n",
    "\n",
    "    return data\n",
    "\n",
    "\n",
    "df = import_data()\n",
    "print(df)"
   ]
  },
  {
   "cell_type": "code",
   "execution_count": 1,
   "id": "cc62f219-2c5b-4670-b6b0-822a4b6a4ad5",
   "metadata": {},
   "outputs": [
    {
     "name": "stdout",
     "output_type": "stream",
     "text": [
      "     Avg Oil Prices Avg Gas Prices Avg Coal Prices  Avg CO2 Emissions\n",
      "Year                                                                 \n",
      "1972            1.9            NaN             NaN         167.979934\n",
      "1973       2.833333            NaN             NaN         177.431076\n",
      "1974        10.4125            NaN             NaN         176.475920\n",
      "1975        10.7025            NaN             NaN         176.119428\n",
      "1976       12.38125            NaN             NaN         185.488018\n",
      "1977       13.68125            NaN             NaN         191.401988\n",
      "1978      13.811458            NaN             NaN         195.330456\n",
      "1979      28.923542            NaN             NaN         201.492834\n",
      "1980      36.865417            NaN             NaN         199.380008\n",
      "1981      35.627708            NaN             NaN         196.996401\n",
      "1982        32.9275            NaN             NaN         195.268554\n",
      "1983      29.542292            NaN             NaN         196.818453\n",
      "1984      28.592687       4.547817             NaN         204.416105\n",
      "1985      27.707085        4.74412             NaN         208.911922\n",
      "1986      14.259629         4.0153             NaN         212.478506\n",
      "1987      18.241409       2.950071       42.006944         219.091754\n",
      "1988       14.77046       2.782234       45.823333         226.309784\n",
      "1989      17.946966        2.32547       49.875556         230.453432\n",
      "1990      23.062821         2.2772       46.605688         231.828131\n",
      "1991      19.585218       2.398558       45.639091         231.880055\n",
      "1992      19.169945       2.268042       43.333635         232.589501\n",
      "1993      16.955365       2.461683        41.12599         233.287106\n",
      "1994      15.990517       2.225715       41.080711         235.653729\n",
      "1995      17.195921       2.117035       43.387421         238.984123\n",
      "1996       20.81195       2.380711       44.331827         245.471854\n",
      "1997      19.335752       2.482266       42.429583         247.304537\n",
      "1998      13.007017       2.150348       36.748645         248.045502\n",
      "1999       18.04126       2.168187       33.294687         251.142681\n",
      "2000      28.386736       3.663546       33.241531         257.319611\n",
      "2001      24.346421       3.831873       39.264028         260.947955\n",
      "2002      24.956928       3.152137       34.119482         266.796065\n",
      "2003      28.832072       4.523596       38.045251         279.949902\n",
      "2004      37.848921       4.964391       62.675577         294.756552\n",
      "2005      53.396137       6.895221       65.815172         306.556519\n",
      "2006      64.930618       7.154415       64.805783         316.077547\n",
      "2007      71.749157       6.796766       76.857224         327.387148\n",
      "2008      98.256901      10.406338      139.690852         330.360501\n",
      "2009      62.021538       5.707008       94.186809         323.064853\n",
      "2010      79.444339       6.869022      106.925704         337.313722\n",
      "2011     106.466879       9.295599       135.81465         346.426620\n",
      "2012     107.266355       9.533122      114.650099         350.215212\n",
      "2013     106.015565      10.069014       97.055819         355.182503\n",
      "2014      97.648424       9.130844        84.66662         356.293726\n",
      "2015        51.6801       6.001374       67.545704         356.236000\n",
      "2016      43.160235       4.404218       69.718264         356.717479\n",
      "2017      53.077906       5.273995       98.260631         362.023703\n",
      "2018      69.783423       6.675616      105.387631         369.716313\n",
      "2019      62.473817       4.737567       89.132671         370.043285\n",
      "2020      41.451878       3.755916       69.260688         350.922495\n",
      "2021      69.419844      10.859441      125.051094         370.132819\n",
      "2022          98.42      25.434906             NaN         373.631362\n",
      "1965            NaN            NaN             NaN         121.554164\n",
      "1966            NaN            NaN             NaN         127.034163\n",
      "1967            NaN            NaN             NaN         130.963940\n",
      "1968            NaN            NaN             NaN         137.967225\n",
      "1969            NaN            NaN             NaN         146.479977\n",
      "1970            NaN            NaN             NaN         155.279325\n",
      "1971            NaN            NaN             NaN         160.406280\n"
     ]
    }
   ],
   "source": [
    "import pandas as pd\n",
    "\n",
    "link = '/home/jovyan/Econ-481-Final-Project/Statistical Review of World Energy Data.xlsx'\n",
    "\n",
    "#Downloads each cleaned sheet and merges into one dataframe\n",
    "def import_data() -> pd.DataFrame:\n",
    "\n",
    "    df1 = download_individual_sheet_oil()\n",
    "    df2 = download_individual_sheet_gas()\n",
    "    df3 = download_individual_sheet_coal()\n",
    "    df4 = download_individual_sheet_CO2()\n",
    "    df_list = [df1, df2, df3, df4]\n",
    "\n",
    "    #Merges dataframes, with a common year index\n",
    "    combined_df = pd.concat(df_list, axis=1)\n",
    "\n",
    "    return combined_df\n",
    "\n",
    "#Loads and cleans oil prices sheet\n",
    "#Returns dataframe with a column of average of oil prices\n",
    "#Null values in dataframe are due to the individual sheets covering different years\n",
    "def download_individual_sheet_oil() -> pd.DataFrame:\n",
    "    data = pd.read_excel(link, sheet_name = 'Oil - Spot crude prices', skiprows = 3, usecols = range(0, 5))\n",
    "\n",
    "    data.rename({data.columns[0]: 'Year'}, axis=1, inplace=True)\n",
    "    data = data.set_index(data.columns[0])\n",
    "    data.drop(data.tail(4).index, inplace = True)\n",
    "\n",
    "    data = data[data.index.notnull()]\n",
    "    data.replace('-', None, inplace = True)\n",
    "\n",
    "    #Creates column containing average of values\n",
    "    data = data.mean(axis = 1, skipna = True).to_frame()\n",
    "    data.rename({data.columns[0]: 'Avg Oil Prices'}, axis = 1, inplace = True)\n",
    "\n",
    "    return data\n",
    "\n",
    "#Loads and cleans gas price sheet\n",
    "#Returns dataframe with a column of average of gas prices\n",
    "def download_individual_sheet_gas() -> pd.DataFrame:\n",
    "    data = pd.read_excel(link, sheet_name = 'Gas Prices ', skiprows = 4, usecols = range(0, 8))\n",
    "    data.rename({data.columns[0]: 'Year'}, axis=1, inplace=True)\n",
    "    data = data.set_index(data.columns[0])\n",
    "\n",
    "    #drops unncessary rows\n",
    "    data.drop(data.tail(8).index, inplace = True)\n",
    "\n",
    "    data.replace('-', None, inplace = True)\n",
    "\n",
    "    #Creates column containing average of values\n",
    "    data = data.mean(axis = 1, skipna = True).to_frame()\n",
    "    data.rename({data.columns[0]: 'Avg Gas Prices'}, axis = 1, inplace = True)\n",
    "\n",
    "    return data\n",
    "\n",
    "#Loads and cleans coal price sheet\n",
    "#Returns dataframe with a column of average of coal prices\n",
    "def download_individual_sheet_coal() -> pd.DataFrame:\n",
    "    data = pd.read_excel(link, sheet_name = 'Coal Prices', skiprows = 2, usecols = range(0, 9))\n",
    "    data.rename({data.columns[0]: 'Year'}, axis=1, inplace=True)\n",
    "    data = data.set_index(data.columns[0])\n",
    "\n",
    "    #drops unncessary rows\n",
    "    data.drop(data.tail(8).index, inplace = True)\n",
    "\n",
    "    data.replace('-', None, inplace = True)\n",
    "\n",
    "    #Creates column containing average of values\n",
    "    data = data.mean(axis = 1, skipna = True).to_frame()\n",
    "    data.rename({data.columns[0]: 'Avg Coal Prices'}, axis = 1, inplace = True)\n",
    "\n",
    "\n",
    "    return data\n",
    "\n",
    "#Loads and cleans CO2 emissions sheet\n",
    "#Returns column of average of CO2 emissions \n",
    "def download_individual_sheet_CO2() -> pd.DataFrame:\n",
    "    data = pd.read_excel(link, sheet_name = 'CO2 Emissions from Energy', skiprows = 2, usecols = range(1, 59))\n",
    "    data = data.iloc[[107]]\n",
    "\n",
    "    data = data.transpose()\n",
    "    data.index.name = 'Year'\n",
    "\n",
    "    data.rename({data.columns[0]: 'Avg CO2 Emissions'}, axis=1, inplace=True)\n",
    "\n",
    "    #Creates column containing average of values\n",
    "    #92 is number of countries covered in original dataset\n",
    "    data['Avg CO2 Emissions'] = data['Avg CO2 Emissions'].div(92)\n",
    "\n",
    "    return data\n",
    "\n",
    "\n",
    "df_prices = import_data()\n",
    "print(df_prices)"
   ]
  },
  {
   "cell_type": "code",
   "execution_count": null,
   "id": "ab4db65d-a90a-4835-9e7a-3b06e351f286",
   "metadata": {},
   "outputs": [],
   "source": [
    "us = df[df.Country == 'US']\n",
    "tes1 = us[\"CO2 Emissions from Energy\"]\n",
    "fig, ax = plt.subplots()\n",
    "tes1.plot(ax=ax, color=\"black\")\n",
    "plt.xticks(np.arange(116, 173, step=19), labels=[str(19*i+1965) for i in range(3)])\n",
    "ax.set_title(\"CO2 Emissions from Energy from US\")"
   ]
  },
  {
   "cell_type": "code",
   "execution_count": null,
   "id": "8b0034d6-f496-4107-b00f-49a5ffff0d5d",
   "metadata": {},
   "outputs": [],
   "source": [
    "mex = df[df.Country == 'Mexico']\n",
    "tes2 = mex[\"CO2 Emissions from Energy\"]\n",
    "fig, ax = plt.subplots()\n",
    "tes2.plot(ax=ax, color=\"black\")\n",
    "plt.xticks(np.arange(58, 115, step=19), labels=[str(19*i+1965) for i in range(3)])\n",
    "ax.set_title(\"CO2 Emissions from Energy from Mexico\")"
   ]
  },
  {
   "cell_type": "code",
   "execution_count": null,
   "id": "5eada15b-58c1-4e8d-bf84-bcca5f85045b",
   "metadata": {},
   "outputs": [],
   "source": [
    "can = df[df.Country == 'Canada']\n",
    "tes3 = can[\"CO2 Emissions from Energy\"]\n",
    "fig, ax = plt.subplots()\n",
    "tes3.plot(ax=ax, color=\"black\")\n",
    "plt.xticks(np.arange(0, 57, step=19), labels=[str(19*i+1965) for i in range(3)])\n",
    "ax.set_title(\"CO2 Emissions from Energy from Canada\")"
   ]
  },
  {
   "cell_type": "code",
   "execution_count": null,
   "id": "50556eb8-5c64-49a8-ba62-efc64bfaad6c",
   "metadata": {},
   "outputs": [],
   "source": [
    "year = {}\n",
    "for i in range(58):\n",
    "    year[i] = df[df.Year == i + 1965]    \n",
    "print(year[0])"
   ]
  },
  {
   "cell_type": "code",
   "execution_count": null,
   "id": "64f55b2c-4ad9-409d-9cd9-d63d10fb0860",
   "metadata": {},
   "outputs": [],
   "source": [
    "for i in range(58):\n",
    "    year[i][\"TotalCO2\"] = sum(year[i][\"CO2 Emissions from Energy\"])\n",
    "print(year[57])"
   ]
  },
  {
   "cell_type": "code",
   "execution_count": null,
   "id": "c152de89-8c81-4563-a22b-9234d641d400",
   "metadata": {},
   "outputs": [],
   "source": [
    "print(year[57][\"TotalCO2\"].values[0])"
   ]
  },
  {
   "cell_type": "code",
   "execution_count": null,
   "id": "1b44d639-99da-42de-aba4-f7db8eddf6a6",
   "metadata": {},
   "outputs": [],
   "source": [
    "df1 = [*range(58)]\n",
    "for i in range(58):\n",
    "    df1[i] = year[i][\"TotalCO2\"].values[0]\n",
    "print(df1)"
   ]
  },
  {
   "cell_type": "code",
   "execution_count": null,
   "id": "27889618-6f8f-4f85-b370-e2b04991061c",
   "metadata": {},
   "outputs": [],
   "source": [
    "df2 = [*range(1965, 2023, 1)]\n",
    "print(df2)"
   ]
  },
  {
   "cell_type": "code",
   "execution_count": null,
   "id": "96be429c-a061-4b8e-9d3b-dc957f0093db",
   "metadata": {},
   "outputs": [],
   "source": [
    "plt.plot(df2, df1)\n",
    "plt.title(\"Total CO2 Emissions from North America\")\n",
    "plt.xlabel('Year')\n",
    "plt.ylabel('Total CO2')\n",
    "plt.show()"
   ]
  },
  {
   "cell_type": "code",
   "execution_count": null,
   "id": "cdc412d5-1374-474b-8709-ab84b5319e86",
   "metadata": {},
   "outputs": [],
   "source": [
    "usoil = df[df.Country == 'US']\n",
    "tes1 = usoil[\"Oil Consumption - EJ\"]\n",
    "fig, ax = plt.subplots()\n",
    "tes1.plot(ax=ax, color=\"black\")\n",
    "plt.xticks(np.arange(116, 173, step=19), labels=[str(19*i+1965) for i in range(3)])\n",
    "ax.set_title(\"Oil Consumption from US (EJ)\")"
   ]
  },
  {
   "cell_type": "code",
   "execution_count": null,
   "id": "e0c9d81d-3ad0-4545-ac87-40adda6f4cd0",
   "metadata": {},
   "outputs": [],
   "source": [
    "mexoil = df[df.Country == 'Mexico']\n",
    "tes2 = mexoil[\"Oil Consumption - EJ\"]\n",
    "fig, ax = plt.subplots()\n",
    "tes2.plot(ax=ax, color=\"black\")\n",
    "plt.xticks(np.arange(58, 115, step=19), labels=[str(19*i+1965) for i in range(3)])\n",
    "ax.set_title(\"Oil Consumption from Mexico (EJ)\")"
   ]
  },
  {
   "cell_type": "code",
   "execution_count": null,
   "id": "677a4b12-65ef-45fd-98e3-1f60e67becb5",
   "metadata": {},
   "outputs": [],
   "source": [
    "canoil = df[df.Country == 'Canada']\n",
    "tes3 = canoil[\"Oil Consumption - EJ\"]\n",
    "fig, ax = plt.subplots()\n",
    "tes3.plot(ax=ax, color=\"black\")\n",
    "plt.xticks(np.arange(0, 57, step=19), labels=[str(19*i+1965) for i in range(3)])\n",
    "ax.set_title(\"Oil Consumption from Canada (EJ)\")"
   ]
  },
  {
   "cell_type": "markdown",
   "id": "6d7f8ce9-0f96-4042-807b-61d792643576",
   "metadata": {},
   "source": [
    "## Coal Consumption"
   ]
  },
  {
   "cell_type": "code",
   "execution_count": null,
   "id": "35d1c637-81bd-40bf-a927-861b53dda6ad",
   "metadata": {},
   "outputs": [],
   "source": [
    "uscoal = df[df.Country == 'US']\n",
    "tes1 = us[\"Coal Consumption - EJ\"]\n",
    "fig, ax = plt.subplots()\n",
    "tes1.plot(ax=ax, color=\"black\")\n",
    "plt.xticks(np.arange(116, 173, step=19), labels=[str(19*i+1965) for i in range(3)])\n",
    "ax.set_title(\"Coal Consumption from US (EJ)\")"
   ]
  },
  {
   "cell_type": "code",
   "execution_count": null,
   "id": "4a56d3b4-5bbf-47a4-a699-55bf5ca93b8f",
   "metadata": {},
   "outputs": [],
   "source": [
    "cancoal = df[df.Country == 'Canada']\n",
    "tes3 = cancoal[\"Coal Consumption - EJ\"]\n",
    "fig, ax = plt.subplots()\n",
    "tes3.plot(ax=ax, color=\"black\")\n",
    "plt.xticks(np.arange(0, 57, step=19), labels=[str(19*i+1965) for i in range(3)])\n",
    "ax.set_title(\"Coal Consumption from Canada (EJ)\")"
   ]
  },
  {
   "cell_type": "code",
   "execution_count": null,
   "id": "2fdd9fe0-4a6a-4a40-bd20-bd943b05d111",
   "metadata": {},
   "outputs": [],
   "source": [
    "mexcoal = df[df.Country == 'Mexico']\n",
    "tes2 = mexcoal[\"Coal Consumption - EJ\"]\n",
    "fig, ax = plt.subplots()\n",
    "tes2.plot(ax=ax, color=\"black\")\n",
    "plt.xticks(np.arange(58, 115, step=19), labels=[str(19*i+1965) for i in range(3)])\n",
    "ax.set_title(\"Coal Consumption from Mexico (EJ)\")"
   ]
  },
  {
   "cell_type": "markdown",
   "id": "0029d373-513d-40ec-a7e3-e6dfe4670bcb",
   "metadata": {},
   "source": [
    "## Gas Consumption"
   ]
  },
  {
   "cell_type": "code",
   "execution_count": null,
   "id": "d1124022-f230-4b90-b9ba-c9454016414a",
   "metadata": {},
   "outputs": [],
   "source": [
    "mexgas = df[df.Country == 'Mexico']\n",
    "tes2 = mexgas[\"Gas Consumption - EJ\"]\n",
    "fig, ax = plt.subplots()\n",
    "tes2.plot(ax=ax, color=\"black\")\n",
    "plt.xticks(np.arange(58, 115, step=19), labels=[str(19*i+1965) for i in range(3)])\n",
    "ax.set_title(\"Gas Consumption from Mexico\")"
   ]
  },
  {
   "cell_type": "code",
   "execution_count": null,
   "id": "244aefce-e975-47aa-846e-fb1d20c98536",
   "metadata": {},
   "outputs": [],
   "source": [
    "cangas = df[df.Country == 'Canada']\n",
    "tes3 = cangas[\"Gas Consumption - EJ\"]\n",
    "fig, ax = plt.subplots()\n",
    "tes3.plot(ax=ax, color=\"black\")\n",
    "plt.xticks(np.arange(0, 57, step=19), labels=[str(19*i+1965) for i in range(3)])\n",
    "ax.set_title(\"Gas Consumption from Canada (EJ)\")"
   ]
  },
  {
   "cell_type": "code",
   "execution_count": null,
   "id": "bab06181-c742-4d3b-86a4-58650fbd926c",
   "metadata": {},
   "outputs": [],
   "source": [
    "usgas = df[df.Country == 'US']\n",
    "tes1 = usgas[\"Gas Consumption - EJ\"]\n",
    "fig, ax = plt.subplots()\n",
    "tes1.plot(ax=ax, color=\"black\")\n",
    "plt.xticks(np.arange(116, 173, step=19), labels=[str(19*i+1965) for i in range(3)])\n",
    "ax.set_title(\"Gas Consumption from US (EJ)\")"
   ]
  },
  {
   "cell_type": "markdown",
   "id": "a6a10c43-d846-4bf9-af31-42fc7a61fe50",
   "metadata": {},
   "source": [
    "## Total Oil"
   ]
  },
  {
   "cell_type": "code",
   "execution_count": null,
   "id": "f572c375-bbea-4f8b-a985-b38326f1f00a",
   "metadata": {},
   "outputs": [],
   "source": [
    "for i in range(58):\n",
    "    year[i][\"TotalOil\"] = sum(year[i][\"Oil Consumption - EJ\"])\n",
    "print(year[57])"
   ]
  },
  {
   "cell_type": "code",
   "execution_count": null,
   "id": "28112364-707b-4c5e-97a5-ad7420820f90",
   "metadata": {},
   "outputs": [],
   "source": [
    "df3 = [*range(58)]\n",
    "for i in range(58):\n",
    "    df3[i] = year[i][\"TotalOil\"].values[0]\n",
    "print(df3)"
   ]
  },
  {
   "cell_type": "code",
   "execution_count": null,
   "id": "bed2e676-aae5-433e-b903-f105bf0a8764",
   "metadata": {},
   "outputs": [],
   "source": [
    "plt.plot(df2, df3)\n",
    "plt.title(\"Total Oil Consumption from North America\")\n",
    "plt.xlabel('Year')\n",
    "plt.ylabel('Total Oil Consumption (EJ)')\n",
    "plt.show()"
   ]
  },
  {
   "cell_type": "markdown",
   "id": "00f68d5a-4f6f-4efb-b12b-6c3a8800dd39",
   "metadata": {},
   "source": [
    "## Total Coal"
   ]
  },
  {
   "cell_type": "code",
   "execution_count": null,
   "id": "60cc9bd0-bdd7-4598-ab3b-d78551eeeb36",
   "metadata": {},
   "outputs": [],
   "source": [
    "for i in range(58):\n",
    "    year[i][\"TotalCoal\"] = sum(year[i][\"Coal Consumption - EJ\"])\n",
    "print(year[57])"
   ]
  },
  {
   "cell_type": "code",
   "execution_count": null,
   "id": "afa0bf66-4835-4120-8635-f19f6a6b55a3",
   "metadata": {},
   "outputs": [],
   "source": [
    "df4 = [*range(58)]\n",
    "for i in range(58):\n",
    "    df4[i] = year[i][\"TotalCoal\"].values[0]"
   ]
  },
  {
   "cell_type": "code",
   "execution_count": null,
   "id": "05203f44-91c5-4b57-930c-3548a4fbb519",
   "metadata": {},
   "outputs": [],
   "source": [
    "plt.plot(df2, df4)\n",
    "plt.title(\"Total Coal Consumption from North America\")\n",
    "plt.xlabel('Year')\n",
    "plt.ylabel('Total Coal Consumption (EJ)')\n",
    "plt.show()"
   ]
  },
  {
   "cell_type": "markdown",
   "id": "1fb5aa9d-c161-42ea-b963-a1d0fd2408a5",
   "metadata": {},
   "source": [
    "## Gas Consumption"
   ]
  },
  {
   "cell_type": "code",
   "execution_count": null,
   "id": "4512cdd0-9d8c-4935-a0c6-8b5d0a3898d9",
   "metadata": {},
   "outputs": [],
   "source": [
    "for i in range(58):\n",
    "    year[i][\"TotalGas\"] = sum(year[i][\"Gas Consumption - EJ\"])"
   ]
  },
  {
   "cell_type": "code",
   "execution_count": null,
   "id": "ddfa7acd-2829-4136-b2c3-5c138275b353",
   "metadata": {},
   "outputs": [],
   "source": [
    "df5 = [*range(58)]\n",
    "for i in range(58):\n",
    "    df5[i] = year[i][\"TotalGas\"].values[0]"
   ]
  },
  {
   "cell_type": "code",
   "execution_count": null,
   "id": "37de684e-7bcc-46ed-a921-95b5ada46a4a",
   "metadata": {},
   "outputs": [],
   "source": [
    "plt.plot(df2, df5)\n",
    "plt.title(\"Total Gas Consumption from North America\")\n",
    "plt.xlabel('Year')\n",
    "plt.ylabel('Total Gas Consumption (EJ)')\n",
    "plt.show()"
   ]
  },
  {
   "cell_type": "markdown",
   "id": "4dbaf812-816e-4965-a975-1227184ddb6e",
   "metadata": {},
   "source": [
    "## OLS for Consumption"
   ]
  },
  {
   "cell_type": "code",
   "execution_count": null,
   "id": "3280371c-8f46-474f-8ae1-465ee64c3cec",
   "metadata": {},
   "outputs": [],
   "source": [
    "import pandas as pd\n",
    "import numpy as np\n",
    "import statsmodels.formula.api as smf\n",
    "from sklearn.model_selection import train_test_split\n",
    "from sklearn.metrics import mean_squared_error\n",
    "import matplotlib.pyplot as plt\n",
    "\n",
    "def ols(df: pd.DataFrame):\n",
    "    # Rename columns for easier reference\n",
    "    df = df.rename(columns={\n",
    "        'CO2 Emissions from Energy':'CO2_emissions', \n",
    "        'Oil Consumption - EJ':'oil_consumption', \n",
    "        'Gas Consumption - EJ':'gas_consumption', \n",
    "        'Coal Consumption - EJ':'coal_consumption'\n",
    "    })\n",
    "\n",
    "    countries = [\"Canada\" , \"US\", \"Mexico\"]\n",
    "\n",
    "    for i in countries:\n",
    "        subset = df[df[\"Country\"] == i]\n",
    "        subset_train, subset_test = train_test_split(\n",
    "            subset,\n",
    "            test_size=0.2,\n",
    "            random_state=12\n",
    "        )\n",
    "\n",
    "        ols_model = smf.ols('CO2_emissions ~ oil_consumption + gas_consumption + coal_consumption', data=subset_train).fit()\n",
    "        print(f\"OLS Summary for {i}:\")\n",
    "        print(ols_model.summary())\n",
    "\n",
    "        def normalized_rmse(y_true, y_pred):\n",
    "            rmse = mean_squared_error(y_true, y_pred, squared=False)\n",
    "            std_dev = np.std(y_true)\n",
    "            nrmse = rmse / std_dev\n",
    "            return nrmse\n",
    "\n",
    "        pred = ols_model.predict(subset_test)\n",
    "        actual = subset_test['CO2_emissions']\n",
    "\n",
    "        # Plotting the actual vs predicted values\n",
    "        plt.figure(figsize=(10, 6))\n",
    "        plt.scatter(actual, pred, edgecolors=(0, 0, 0))\n",
    "        plt.plot([actual.min(), actual.max()], [actual.min(), actual.max()], 'k--', lw=4)\n",
    "        plt.xlabel('Actual')\n",
    "        plt.ylabel('Predicted')\n",
    "        plt.title(f'Actual vs Predicted CO2 Emissions for {i}')\n",
    "        plt.show()\n",
    "\n",
    "\n",
    "ols(df)"
   ]
  },
  {
   "cell_type": "code",
   "execution_count": null,
   "id": "4b2805a1-4bec-44ae-9a57-a380b7c1da30",
   "metadata": {},
   "outputs": [],
   "source": [
    "import pandas as pd\n",
    "from sklearn.model_selection import train_test_split\n",
    "from sklearn.linear_model import LinearRegression\n",
    "\n",
    "def PricesReg(df_prices: pd.DataFrame):\n",
    "  model = LinearRegression()\n",
    "  df_prices = import_data()\n",
    "  subset = df_prices[15:50]\n",
    "  subset_train, subset_test = train_test_split(\n",
    "        subset,\n",
    "        test_size = 0.2,\n",
    "        random_state = 12\n",
    "    )\n",
    "  predictors = ['Avg Oil Prices', 'Avg Gas Prices', 'Coal Prices']\n",
    "  x_train = subset_train[predictors].to_numpy()\n",
    "  x_test = subset_test[predictors].to_numpy()\n",
    "  y_train = subset_train['Avg CO2 Emissions']\n",
    "  model = model.fit(x_train, y_train)\n",
    "  score = model.score(x_train, y_train)\n",
    "  coef = model.coef_\n",
    "  print(score)\n",
    "  print(coef)\n",
    "\n",
    "PricesReg(df_prices)"
   ]
  }
 ],
 "metadata": {
  "kernelspec": {
   "display_name": "Python 3 (ipykernel)",
   "language": "python",
   "name": "python3"
  },
  "language_info": {
   "codemirror_mode": {
    "name": "ipython",
    "version": 3
   },
   "file_extension": ".py",
   "mimetype": "text/x-python",
   "name": "python",
   "nbconvert_exporter": "python",
   "pygments_lexer": "ipython3",
   "version": "3.10.13"
  }
 },
 "nbformat": 4,
 "nbformat_minor": 5
}
